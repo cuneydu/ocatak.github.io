{
 "cells": [
  {
   "cell_type": "markdown",
   "metadata": {},
   "source": [
    "# 2. Hafta Lab-2: Regularization\n",
    "### BGM 565: Siber Güvenlik için Makine Öğrenme Yöntemleri\n",
    "### İstanbul Şehir Üni. - Bilgi Güvenliği Müh.\n",
    "#### Dr. Ferhat Özgür Çatak\n",
    "\n",
    "Bu lab çalışmasında doğrusal regresyon probleminin *gradient descent* çözümünde kullanılan **regularization** yöntemini sentetik bir kümesine uygulayacağız."
   ]
  },
  {
   "cell_type": "code",
   "execution_count": 1,
   "metadata": {},
   "outputs": [],
   "source": [
    "import numpy as np\n",
    "import pandas as pd\n",
    "from sklearn.linear_model import SGDRegressor"
   ]
  },
  {
   "cell_type": "markdown",
   "metadata": {},
   "source": [
    "Pandas kütüphanesi kullanarak ds2.txt dosyası verikumesi degişkenine (dataframe) atanmaktadır."
   ]
  },
  {
   "cell_type": "code",
   "execution_count": 2,
   "metadata": {},
   "outputs": [],
   "source": [
    "# veri kumesini oku\n",
    "verikumesi = pd.read_csv(\"ds2.txt\",delimiter=\"\\t\")\n",
    "X = verikumesi.iloc[:,:-1].values\n",
    "y = verikumesi.iloc[:,X.shape[1]].values"
   ]
  },
  {
   "cell_type": "markdown",
   "metadata": {},
   "source": [
    "$X$ ve $y$ kullanılarak regresyon modeli l1 için eğitilir."
   ]
  },
  {
   "cell_type": "code",
   "execution_count": 3,
   "metadata": {},
   "outputs": [
    {
     "name": "stdout",
     "output_type": "stream",
     "text": [
      "[0.14808967] [1.92526754 2.99111462 0.97849345 1.95100869]\n"
     ]
    }
   ],
   "source": [
    "# modeli l1 regularization ile tanimla\n",
    "regressor = SGDRegressor(penalty=\"l1\", verbose=0, max_iter=100000)\n",
    "# modeli egit\n",
    "regressor.fit(X, y)\n",
    "print(regressor.intercept_, regressor.coef_)"
   ]
  },
  {
   "cell_type": "markdown",
   "metadata": {},
   "source": [
    "Bu veri kümesi içi hipotez: $h(\\mathbf{x}) = 0.1537206 + 1.92059957 \\cdot x_1 + 2.98959435 \\cdot x_2 + 0.97867187 \\cdot x_3 + 1.94799199 \\cdot x_4$ (eski model $h(\\mathbf{x})=0.12490622+1.9516536 \\cdot x_1 + 2.98882317 \\cdot x_2 + 0.97638019 \\cdot x_3 + 1.96358802 \\cdot x4$). Hipotez kullanılarak $X$ verikümesinin çıktı değerleri tahmin ederek y_pred vektörüne atayalım"
   ]
  },
  {
   "cell_type": "code",
   "execution_count": 4,
   "metadata": {},
   "outputs": [],
   "source": [
    "y_pred_l1 = regressor.predict(X)"
   ]
  },
  {
   "cell_type": "markdown",
   "metadata": {},
   "source": [
    "$X$ ve $y$ kullanılarak regresyon modeli l2 için eğitilir."
   ]
  },
  {
   "cell_type": "code",
   "execution_count": 5,
   "metadata": {},
   "outputs": [
    {
     "name": "stdout",
     "output_type": "stream",
     "text": [
      "[0.15373454] [1.92060109 2.98958996 0.97867666 1.94800142]\n"
     ]
    }
   ],
   "source": [
    "# modeli l2 regularization ile tanimla\n",
    "regressor = SGDRegressor(penalty=\"l2\", verbose=0, max_iter=100000)\n",
    "# modeli egit\n",
    "regressor.fit(X, y)\n",
    "print(regressor.intercept_, regressor.coef_)\n",
    "y_pred_l2 = regressor.predict(X)"
   ]
  },
  {
   "cell_type": "markdown",
   "metadata": {},
   "source": [
    "Analitik : $h(\\mathbf{x})=0.12490622+1.9516536 \\cdot x_1 + 2.98882317 \\cdot x_2 + 0.97638019 \\cdot x_3 + 1.96358802 \\cdot x_4$\n",
    "\n",
    "L1-reg.  : $h(\\mathbf{x}) = 0.1537206 + 1.92059957 \\cdot x_1 + 2.98959435 \\cdot x_2 + 0.97867187 \\cdot x_3 + 1.94799199 \\cdot x_4$\n",
    "\n",
    "L2-reg.  : $h(\\mathbf{x}) = 0.15366447 + 1.92069278 \\cdot x_1 + 2.9895874 \\cdot x_2 + 0.97864630 \\cdot x_3 + 1.94803955 \\cdot x_4$"
   ]
  },
  {
   "cell_type": "code",
   "execution_count": null,
   "metadata": {},
   "outputs": [],
   "source": [
    "df = pd.DataFrame({\"y\":y,\"y_pred_l1\":y_pred_l1,\"y_pred_l2\":y_pred_l2})\n",
    "df"
   ]
  },
  {
   "cell_type": "code",
   "execution_count": null,
   "metadata": {},
   "outputs": [],
   "source": []
  }
 ],
 "metadata": {
  "kernelspec": {
   "display_name": "Python 3",
   "language": "python",
   "name": "python3"
  },
  "language_info": {
   "codemirror_mode": {
    "name": "ipython",
    "version": 3
   },
   "file_extension": ".py",
   "mimetype": "text/x-python",
   "name": "python",
   "nbconvert_exporter": "python",
   "pygments_lexer": "ipython3",
   "version": "3.5.4"
  }
 },
 "nbformat": 4,
 "nbformat_minor": 2
}
